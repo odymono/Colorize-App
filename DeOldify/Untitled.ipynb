{
 "cells": [
  {
   "cell_type": "code",
   "execution_count": 1,
   "id": "afea3927-8ebf-4f10-a32b-2e09f8411d15",
   "metadata": {
    "tags": []
   },
   "outputs": [
    {
     "name": "stdout",
     "output_type": "stream",
     "text": [
      "Requirement already satisfied: fastai==1.0.60 in c:\\python311\\lib\\site-packages (from -r requirements-colab.txt (line 1)) (1.0.60)\n",
      "Requirement already satisfied: tensorboardX>=1.6 in c:\\python311\\lib\\site-packages (from -r requirements-colab.txt (line 2)) (2.6)\n",
      "Requirement already satisfied: ffmpeg-python in c:\\python311\\lib\\site-packages (from -r requirements-colab.txt (line 3)) (0.2.0)\n",
      "Requirement already satisfied: yt-dlp in c:\\python311\\lib\\site-packages (from -r requirements-colab.txt (line 4)) (2023.3.4)\n",
      "Requirement already satisfied: opencv-python>=4.2.0.32 in c:\\python311\\lib\\site-packages (from -r requirements-colab.txt (line 5)) (4.7.0.72)\n",
      "Requirement already satisfied: Pillow in c:\\python311\\lib\\site-packages (from -r requirements-colab.txt (line 6)) (9.4.0)\n",
      "Requirement already satisfied: tornado in c:\\python311\\lib\\site-packages (from -r requirements-colab.txt (line 7)) (6.2)\n",
      "Requirement already satisfied: imgaug==0.2.6 in c:\\python311\\lib\\site-packages (from -r requirements-colab.txt (line 8)) (0.2.6)\n",
      "Requirement already satisfied: bottleneck in c:\\python311\\lib\\site-packages (from fastai==1.0.60->-r requirements-colab.txt (line 1)) (1.3.7)\n",
      "Requirement already satisfied: fastprogress>=0.2.1 in c:\\python311\\lib\\site-packages (from fastai==1.0.60->-r requirements-colab.txt (line 1)) (1.0.3)\n",
      "Requirement already satisfied: beautifulsoup4 in c:\\python311\\lib\\site-packages (from fastai==1.0.60->-r requirements-colab.txt (line 1)) (4.12.2)\n",
      "Requirement already satisfied: matplotlib in c:\\python311\\lib\\site-packages (from fastai==1.0.60->-r requirements-colab.txt (line 1)) (3.7.1)\n",
      "Requirement already satisfied: numexpr in c:\\python311\\lib\\site-packages (from fastai==1.0.60->-r requirements-colab.txt (line 1)) (2.8.4)\n",
      "Requirement already satisfied: numpy>=1.15 in c:\\python311\\lib\\site-packages (from fastai==1.0.60->-r requirements-colab.txt (line 1)) (1.24.2)\n",
      "Requirement already satisfied: nvidia-ml-py3 in c:\\python311\\lib\\site-packages (from fastai==1.0.60->-r requirements-colab.txt (line 1)) (7.352.0)\n",
      "Requirement already satisfied: pandas in c:\\python311\\lib\\site-packages (from fastai==1.0.60->-r requirements-colab.txt (line 1)) (2.0.0)\n",
      "Requirement already satisfied: packaging in c:\\python311\\lib\\site-packages (from fastai==1.0.60->-r requirements-colab.txt (line 1)) (23.0)\n",
      "Requirement already satisfied: pyyaml in c:\\python311\\lib\\site-packages (from fastai==1.0.60->-r requirements-colab.txt (line 1)) (6.0)\n",
      "Requirement already satisfied: requests in c:\\python311\\lib\\site-packages (from fastai==1.0.60->-r requirements-colab.txt (line 1)) (2.28.2)\n",
      "Requirement already satisfied: scipy in c:\\python311\\lib\\site-packages (from fastai==1.0.60->-r requirements-colab.txt (line 1)) (1.10.1)\n",
      "Requirement already satisfied: torch>=1.0.0 in c:\\python311\\lib\\site-packages (from fastai==1.0.60->-r requirements-colab.txt (line 1)) (2.0.0)\n",
      "Requirement already satisfied: spacy>=2.0.18 in c:\\python311\\lib\\site-packages (from fastai==1.0.60->-r requirements-colab.txt (line 1)) (3.5.2)\n",
      "Requirement already satisfied: torchvision in c:\\python311\\lib\\site-packages (from fastai==1.0.60->-r requirements-colab.txt (line 1)) (0.15.1)\n",
      "Requirement already satisfied: scikit-image>=0.11.0 in c:\\python311\\lib\\site-packages (from imgaug==0.2.6->-r requirements-colab.txt (line 8)) (0.20.0)\n",
      "Requirement already satisfied: six in c:\\python311\\lib\\site-packages (from imgaug==0.2.6->-r requirements-colab.txt (line 8)) (1.16.0)\n",
      "Requirement already satisfied: protobuf<4,>=3.8.0 in c:\\python311\\lib\\site-packages (from tensorboardX>=1.6->-r requirements-colab.txt (line 2)) (3.20.3)\n",
      "Requirement already satisfied: future in c:\\python311\\lib\\site-packages (from ffmpeg-python->-r requirements-colab.txt (line 3)) (0.18.3)\n",
      "Requirement already satisfied: mutagen in c:\\python311\\lib\\site-packages (from yt-dlp->-r requirements-colab.txt (line 4)) (1.46.0)\n",
      "Requirement already satisfied: pycryptodomex in c:\\python311\\lib\\site-packages (from yt-dlp->-r requirements-colab.txt (line 4)) (3.17)\n",
      "Requirement already satisfied: websockets in c:\\python311\\lib\\site-packages (from yt-dlp->-r requirements-colab.txt (line 4)) (10.4)\n",
      "Requirement already satisfied: certifi in c:\\python311\\lib\\site-packages (from yt-dlp->-r requirements-colab.txt (line 4)) (2022.12.7)\n",
      "Requirement already satisfied: brotli in c:\\python311\\lib\\site-packages (from yt-dlp->-r requirements-colab.txt (line 4)) (1.0.9)\n",
      "Requirement already satisfied: networkx>=2.8 in c:\\python311\\lib\\site-packages (from scikit-image>=0.11.0->imgaug==0.2.6->-r requirements-colab.txt (line 8)) (3.1)\n",
      "Requirement already satisfied: imageio>=2.4.1 in c:\\python311\\lib\\site-packages (from scikit-image>=0.11.0->imgaug==0.2.6->-r requirements-colab.txt (line 8)) (2.27.0)\n",
      "Requirement already satisfied: tifffile>=2019.7.26 in c:\\python311\\lib\\site-packages (from scikit-image>=0.11.0->imgaug==0.2.6->-r requirements-colab.txt (line 8)) (2023.3.21)\n",
      "Requirement already satisfied: PyWavelets>=1.1.1 in c:\\python311\\lib\\site-packages (from scikit-image>=0.11.0->imgaug==0.2.6->-r requirements-colab.txt (line 8)) (1.4.1)\n",
      "Requirement already satisfied: lazy_loader>=0.1 in c:\\python311\\lib\\site-packages (from scikit-image>=0.11.0->imgaug==0.2.6->-r requirements-colab.txt (line 8)) (0.2)\n",
      "Requirement already satisfied: spacy-legacy<3.1.0,>=3.0.11 in c:\\python311\\lib\\site-packages (from spacy>=2.0.18->fastai==1.0.60->-r requirements-colab.txt (line 1)) (3.0.12)\n",
      "Requirement already satisfied: spacy-loggers<2.0.0,>=1.0.0 in c:\\python311\\lib\\site-packages (from spacy>=2.0.18->fastai==1.0.60->-r requirements-colab.txt (line 1)) (1.0.4)\n",
      "Requirement already satisfied: murmurhash<1.1.0,>=0.28.0 in c:\\python311\\lib\\site-packages (from spacy>=2.0.18->fastai==1.0.60->-r requirements-colab.txt (line 1)) (1.0.9)\n",
      "Requirement already satisfied: cymem<2.1.0,>=2.0.2 in c:\\python311\\lib\\site-packages (from spacy>=2.0.18->fastai==1.0.60->-r requirements-colab.txt (line 1)) (2.0.7)\n",
      "Requirement already satisfied: preshed<3.1.0,>=3.0.2 in c:\\python311\\lib\\site-packages (from spacy>=2.0.18->fastai==1.0.60->-r requirements-colab.txt (line 1)) (3.0.8)\n",
      "Requirement already satisfied: thinc<8.2.0,>=8.1.8 in c:\\python311\\lib\\site-packages (from spacy>=2.0.18->fastai==1.0.60->-r requirements-colab.txt (line 1)) (8.1.9)\n",
      "Requirement already satisfied: wasabi<1.2.0,>=0.9.1 in c:\\python311\\lib\\site-packages (from spacy>=2.0.18->fastai==1.0.60->-r requirements-colab.txt (line 1)) (1.1.1)\n",
      "Requirement already satisfied: srsly<3.0.0,>=2.4.3 in c:\\python311\\lib\\site-packages (from spacy>=2.0.18->fastai==1.0.60->-r requirements-colab.txt (line 1)) (2.4.6)\n",
      "Requirement already satisfied: catalogue<2.1.0,>=2.0.6 in c:\\python311\\lib\\site-packages (from spacy>=2.0.18->fastai==1.0.60->-r requirements-colab.txt (line 1)) (2.0.8)\n",
      "Requirement already satisfied: typer<0.8.0,>=0.3.0 in c:\\python311\\lib\\site-packages (from spacy>=2.0.18->fastai==1.0.60->-r requirements-colab.txt (line 1)) (0.7.0)\n",
      "Requirement already satisfied: pathy>=0.10.0 in c:\\python311\\lib\\site-packages (from spacy>=2.0.18->fastai==1.0.60->-r requirements-colab.txt (line 1)) (0.10.1)\n",
      "Requirement already satisfied: smart-open<7.0.0,>=5.2.1 in c:\\python311\\lib\\site-packages (from spacy>=2.0.18->fastai==1.0.60->-r requirements-colab.txt (line 1)) (6.3.0)\n",
      "Requirement already satisfied: tqdm<5.0.0,>=4.38.0 in c:\\python311\\lib\\site-packages (from spacy>=2.0.18->fastai==1.0.60->-r requirements-colab.txt (line 1)) (4.65.0)\n",
      "Requirement already satisfied: pydantic!=1.8,!=1.8.1,<1.11.0,>=1.7.4 in c:\\python311\\lib\\site-packages (from spacy>=2.0.18->fastai==1.0.60->-r requirements-colab.txt (line 1)) (1.10.7)\n",
      "Requirement already satisfied: jinja2 in c:\\python311\\lib\\site-packages (from spacy>=2.0.18->fastai==1.0.60->-r requirements-colab.txt (line 1)) (3.1.2)\n",
      "Requirement already satisfied: setuptools in c:\\python311\\lib\\site-packages (from spacy>=2.0.18->fastai==1.0.60->-r requirements-colab.txt (line 1)) (65.5.0)\n",
      "Requirement already satisfied: langcodes<4.0.0,>=3.2.0 in c:\\python311\\lib\\site-packages (from spacy>=2.0.18->fastai==1.0.60->-r requirements-colab.txt (line 1)) (3.3.0)\n",
      "Requirement already satisfied: charset-normalizer<4,>=2 in c:\\python311\\lib\\site-packages (from requests->fastai==1.0.60->-r requirements-colab.txt (line 1)) (3.1.0)\n",
      "Requirement already satisfied: idna<4,>=2.5 in c:\\python311\\lib\\site-packages (from requests->fastai==1.0.60->-r requirements-colab.txt (line 1)) (3.4)\n",
      "Requirement already satisfied: urllib3<1.27,>=1.21.1 in c:\\python311\\lib\\site-packages (from requests->fastai==1.0.60->-r requirements-colab.txt (line 1)) (1.26.15)\n",
      "Requirement already satisfied: filelock in c:\\python311\\lib\\site-packages (from torch>=1.0.0->fastai==1.0.60->-r requirements-colab.txt (line 1)) (3.11.0)\n",
      "Requirement already satisfied: typing-extensions in c:\\python311\\lib\\site-packages (from torch>=1.0.0->fastai==1.0.60->-r requirements-colab.txt (line 1)) (4.5.0)\n",
      "Requirement already satisfied: sympy in c:\\python311\\lib\\site-packages (from torch>=1.0.0->fastai==1.0.60->-r requirements-colab.txt (line 1)) (1.11.1)\n",
      "Requirement already satisfied: soupsieve>1.2 in c:\\python311\\lib\\site-packages (from beautifulsoup4->fastai==1.0.60->-r requirements-colab.txt (line 1)) (2.4)\n",
      "Requirement already satisfied: contourpy>=1.0.1 in c:\\python311\\lib\\site-packages (from matplotlib->fastai==1.0.60->-r requirements-colab.txt (line 1)) (1.0.7)\n",
      "Requirement already satisfied: cycler>=0.10 in c:\\python311\\lib\\site-packages (from matplotlib->fastai==1.0.60->-r requirements-colab.txt (line 1)) (0.11.0)\n",
      "Requirement already satisfied: fonttools>=4.22.0 in c:\\python311\\lib\\site-packages (from matplotlib->fastai==1.0.60->-r requirements-colab.txt (line 1)) (4.39.3)\n",
      "Requirement already satisfied: kiwisolver>=1.0.1 in c:\\python311\\lib\\site-packages (from matplotlib->fastai==1.0.60->-r requirements-colab.txt (line 1)) (1.4.4)\n",
      "Requirement already satisfied: pyparsing>=2.3.1 in c:\\python311\\lib\\site-packages (from matplotlib->fastai==1.0.60->-r requirements-colab.txt (line 1)) (3.0.9)\n",
      "Requirement already satisfied: python-dateutil>=2.7 in c:\\python311\\lib\\site-packages (from matplotlib->fastai==1.0.60->-r requirements-colab.txt (line 1)) (2.8.2)\n",
      "Requirement already satisfied: pytz>=2020.1 in c:\\python311\\lib\\site-packages (from pandas->fastai==1.0.60->-r requirements-colab.txt (line 1)) (2023.2)\n",
      "Requirement already satisfied: tzdata>=2022.1 in c:\\python311\\lib\\site-packages (from pandas->fastai==1.0.60->-r requirements-colab.txt (line 1)) (2023.3)\n",
      "Requirement already satisfied: blis<0.8.0,>=0.7.8 in c:\\python311\\lib\\site-packages (from thinc<8.2.0,>=8.1.8->spacy>=2.0.18->fastai==1.0.60->-r requirements-colab.txt (line 1)) (0.7.9)\n",
      "Requirement already satisfied: confection<1.0.0,>=0.0.1 in c:\\python311\\lib\\site-packages (from thinc<8.2.0,>=8.1.8->spacy>=2.0.18->fastai==1.0.60->-r requirements-colab.txt (line 1)) (0.0.4)\n",
      "Requirement already satisfied: colorama in c:\\python311\\lib\\site-packages (from tqdm<5.0.0,>=4.38.0->spacy>=2.0.18->fastai==1.0.60->-r requirements-colab.txt (line 1)) (0.4.6)\n",
      "Requirement already satisfied: click<9.0.0,>=7.1.1 in c:\\python311\\lib\\site-packages (from typer<0.8.0,>=0.3.0->spacy>=2.0.18->fastai==1.0.60->-r requirements-colab.txt (line 1)) (8.1.3)\n",
      "Requirement already satisfied: MarkupSafe>=2.0 in c:\\python311\\lib\\site-packages (from jinja2->spacy>=2.0.18->fastai==1.0.60->-r requirements-colab.txt (line 1)) (2.1.2)\n",
      "Requirement already satisfied: mpmath>=0.19 in c:\\python311\\lib\\site-packages (from sympy->torch>=1.0.0->fastai==1.0.60->-r requirements-colab.txt (line 1)) (1.3.0)\n"
     ]
    }
   ],
   "source": [
    "!pip install -r requirements-colab.txt"
   ]
  },
  {
   "cell_type": "code",
   "execution_count": 1,
   "id": "7ce3a032-8e2b-4baf-84ea-8554b91bdea4",
   "metadata": {
    "tags": []
   },
   "outputs": [
    {
     "name": "stdout",
     "output_type": "stream",
     "text": [
      "Requirement already satisfied: fastai==1.0.60 in c:\\users\\mono\\anaconda3\\envs\\deoldify\\lib\\site-packages (from -r requirements-colab.txt (line 1)) (1.0.60)\n",
      "Requirement already satisfied: tensorboardX>=1.6 in c:\\users\\mono\\anaconda3\\envs\\deoldify\\lib\\site-packages (from -r requirements-colab.txt (line 2)) (1.6)\n",
      "Requirement already satisfied: ffmpeg-python in c:\\users\\mono\\anaconda3\\envs\\deoldify\\lib\\site-packages (from -r requirements-colab.txt (line 3)) (0.1.17)\n",
      "Requirement already satisfied: yt-dlp in c:\\users\\mono\\anaconda3\\envs\\deoldify\\lib\\site-packages (from -r requirements-colab.txt (line 4)) (2023.3.4)\n",
      "Requirement already satisfied: opencv-python>=4.2.0.32 in c:\\users\\mono\\anaconda3\\envs\\deoldify\\lib\\site-packages (from -r requirements-colab.txt (line 5)) (4.7.0.72)\n",
      "Requirement already satisfied: Pillow in c:\\users\\mono\\anaconda3\\envs\\deoldify\\lib\\site-packages (from -r requirements-colab.txt (line 6)) (9.5.0)\n",
      "Requirement already satisfied: tornado in c:\\users\\mono\\anaconda3\\envs\\deoldify\\lib\\site-packages (from -r requirements-colab.txt (line 7)) (6.2)\n",
      "Requirement already satisfied: imgaug==0.2.6 in c:\\users\\mono\\anaconda3\\envs\\deoldify\\lib\\site-packages (from -r requirements-colab.txt (line 8)) (0.2.6)\n",
      "Requirement already satisfied: bottleneck in c:\\users\\mono\\anaconda3\\envs\\deoldify\\lib\\site-packages (from fastai==1.0.60->-r requirements-colab.txt (line 1)) (1.3.5)\n",
      "Requirement already satisfied: fastprogress>=0.2.1 in c:\\users\\mono\\anaconda3\\envs\\deoldify\\lib\\site-packages (from fastai==1.0.60->-r requirements-colab.txt (line 1)) (1.0.3)\n",
      "Requirement already satisfied: beautifulsoup4 in c:\\users\\mono\\anaconda3\\envs\\deoldify\\lib\\site-packages (from fastai==1.0.60->-r requirements-colab.txt (line 1)) (4.12.2)\n",
      "Requirement already satisfied: matplotlib in c:\\users\\mono\\anaconda3\\envs\\deoldify\\lib\\site-packages (from fastai==1.0.60->-r requirements-colab.txt (line 1)) (3.5.3)\n",
      "Requirement already satisfied: numexpr in c:\\users\\mono\\anaconda3\\envs\\deoldify\\lib\\site-packages (from fastai==1.0.60->-r requirements-colab.txt (line 1)) (2.7.3)\n",
      "Requirement already satisfied: numpy>=1.15 in c:\\users\\mono\\anaconda3\\envs\\deoldify\\lib\\site-packages (from fastai==1.0.60->-r requirements-colab.txt (line 1)) (1.21.6)\n",
      "Requirement already satisfied: nvidia-ml-py3 in c:\\users\\mono\\anaconda3\\envs\\deoldify\\lib\\site-packages (from fastai==1.0.60->-r requirements-colab.txt (line 1)) (7.352.0)\n",
      "Requirement already satisfied: pandas in c:\\users\\mono\\anaconda3\\envs\\deoldify\\lib\\site-packages (from fastai==1.0.60->-r requirements-colab.txt (line 1)) (1.3.5)\n",
      "Requirement already satisfied: packaging in c:\\users\\mono\\anaconda3\\envs\\deoldify\\lib\\site-packages (from fastai==1.0.60->-r requirements-colab.txt (line 1)) (23.1)\n",
      "Requirement already satisfied: pyyaml in c:\\users\\mono\\anaconda3\\envs\\deoldify\\lib\\site-packages (from fastai==1.0.60->-r requirements-colab.txt (line 1)) (6.0)\n",
      "Requirement already satisfied: requests in c:\\users\\mono\\anaconda3\\envs\\deoldify\\lib\\site-packages (from fastai==1.0.60->-r requirements-colab.txt (line 1)) (2.28.2)\n",
      "Requirement already satisfied: scipy in c:\\users\\mono\\anaconda3\\envs\\deoldify\\lib\\site-packages (from fastai==1.0.60->-r requirements-colab.txt (line 1)) (1.7.3)\n",
      "Requirement already satisfied: torch>=1.0.0 in c:\\users\\mono\\anaconda3\\envs\\deoldify\\lib\\site-packages (from fastai==1.0.60->-r requirements-colab.txt (line 1)) (1.0.1)\n",
      "Requirement already satisfied: spacy>=2.0.18 in c:\\users\\mono\\anaconda3\\envs\\deoldify\\lib\\site-packages (from fastai==1.0.60->-r requirements-colab.txt (line 1)) (3.4.2)\n",
      "Requirement already satisfied: torchvision in c:\\users\\mono\\anaconda3\\envs\\deoldify\\lib\\site-packages (from fastai==1.0.60->-r requirements-colab.txt (line 1)) (0.13.1a0)\n",
      "Requirement already satisfied: scikit-image>=0.11.0 in c:\\users\\mono\\anaconda3\\envs\\deoldify\\lib\\site-packages (from imgaug==0.2.6->-r requirements-colab.txt (line 8)) (0.19.3)\n",
      "Requirement already satisfied: six in c:\\users\\mono\\anaconda3\\envs\\deoldify\\lib\\site-packages (from imgaug==0.2.6->-r requirements-colab.txt (line 8)) (1.16.0)\n",
      "Requirement already satisfied: protobuf>=3.2.0 in c:\\users\\mono\\anaconda3\\envs\\deoldify\\lib\\site-packages (from tensorboardX>=1.6->-r requirements-colab.txt (line 2)) (4.21.8)\n",
      "Requirement already satisfied: future in c:\\users\\mono\\anaconda3\\envs\\deoldify\\lib\\site-packages (from ffmpeg-python->-r requirements-colab.txt (line 3)) (0.18.3)\n",
      "Requirement already satisfied: mutagen in c:\\users\\mono\\anaconda3\\envs\\deoldify\\lib\\site-packages (from yt-dlp->-r requirements-colab.txt (line 4)) (1.46.0)\n",
      "Requirement already satisfied: pycryptodomex in c:\\users\\mono\\anaconda3\\envs\\deoldify\\lib\\site-packages (from yt-dlp->-r requirements-colab.txt (line 4)) (3.17)\n",
      "Requirement already satisfied: websockets in c:\\users\\mono\\anaconda3\\envs\\deoldify\\lib\\site-packages (from yt-dlp->-r requirements-colab.txt (line 4)) (11.0.1)\n",
      "Requirement already satisfied: certifi in c:\\users\\mono\\anaconda3\\envs\\deoldify\\lib\\site-packages (from yt-dlp->-r requirements-colab.txt (line 4)) (2022.12.7)\n",
      "Requirement already satisfied: brotli in c:\\users\\mono\\anaconda3\\envs\\deoldify\\lib\\site-packages (from yt-dlp->-r requirements-colab.txt (line 4)) (1.0.9)\n",
      "Requirement already satisfied: networkx>=2.2 in c:\\users\\mono\\anaconda3\\envs\\deoldify\\lib\\site-packages (from scikit-image>=0.11.0->imgaug==0.2.6->-r requirements-colab.txt (line 8)) (2.6.3)\n",
      "Requirement already satisfied: imageio>=2.4.1 in c:\\users\\mono\\anaconda3\\envs\\deoldify\\lib\\site-packages (from scikit-image>=0.11.0->imgaug==0.2.6->-r requirements-colab.txt (line 8)) (2.27.0)\n",
      "Requirement already satisfied: tifffile>=2019.7.26 in c:\\users\\mono\\anaconda3\\envs\\deoldify\\lib\\site-packages (from scikit-image>=0.11.0->imgaug==0.2.6->-r requirements-colab.txt (line 8)) (2021.11.2)\n",
      "Requirement already satisfied: PyWavelets>=1.1.1 in c:\\users\\mono\\anaconda3\\envs\\deoldify\\lib\\site-packages (from scikit-image>=0.11.0->imgaug==0.2.6->-r requirements-colab.txt (line 8)) (1.3.0)\n",
      "Requirement already satisfied: spacy-legacy<3.1.0,>=3.0.10 in c:\\users\\mono\\anaconda3\\envs\\deoldify\\lib\\site-packages (from spacy>=2.0.18->fastai==1.0.60->-r requirements-colab.txt (line 1)) (3.0.12)\n",
      "Requirement already satisfied: spacy-loggers<2.0.0,>=1.0.0 in c:\\users\\mono\\anaconda3\\envs\\deoldify\\lib\\site-packages (from spacy>=2.0.18->fastai==1.0.60->-r requirements-colab.txt (line 1)) (1.0.4)\n",
      "Requirement already satisfied: murmurhash<1.1.0,>=0.28.0 in c:\\users\\mono\\anaconda3\\envs\\deoldify\\lib\\site-packages (from spacy>=2.0.18->fastai==1.0.60->-r requirements-colab.txt (line 1)) (1.0.9)\n",
      "Requirement already satisfied: cymem<2.1.0,>=2.0.2 in c:\\users\\mono\\anaconda3\\envs\\deoldify\\lib\\site-packages (from spacy>=2.0.18->fastai==1.0.60->-r requirements-colab.txt (line 1)) (2.0.7)\n",
      "Requirement already satisfied: preshed<3.1.0,>=3.0.2 in c:\\users\\mono\\anaconda3\\envs\\deoldify\\lib\\site-packages (from spacy>=2.0.18->fastai==1.0.60->-r requirements-colab.txt (line 1)) (3.0.8)\n",
      "Requirement already satisfied: thinc<8.2.0,>=8.1.0 in c:\\users\\mono\\anaconda3\\envs\\deoldify\\lib\\site-packages (from spacy>=2.0.18->fastai==1.0.60->-r requirements-colab.txt (line 1)) (8.1.5)\n",
      "Requirement already satisfied: wasabi<1.1.0,>=0.9.1 in c:\\users\\mono\\anaconda3\\envs\\deoldify\\lib\\site-packages (from spacy>=2.0.18->fastai==1.0.60->-r requirements-colab.txt (line 1)) (0.10.1)\n",
      "Requirement already satisfied: srsly<3.0.0,>=2.4.3 in c:\\users\\mono\\anaconda3\\envs\\deoldify\\lib\\site-packages (from spacy>=2.0.18->fastai==1.0.60->-r requirements-colab.txt (line 1)) (2.4.5)\n",
      "Requirement already satisfied: catalogue<2.1.0,>=2.0.6 in c:\\users\\mono\\anaconda3\\envs\\deoldify\\lib\\site-packages (from spacy>=2.0.18->fastai==1.0.60->-r requirements-colab.txt (line 1)) (2.0.8)\n",
      "Requirement already satisfied: typer<0.5.0,>=0.3.0 in c:\\users\\mono\\anaconda3\\envs\\deoldify\\lib\\site-packages (from spacy>=2.0.18->fastai==1.0.60->-r requirements-colab.txt (line 1)) (0.4.2)\n",
      "Requirement already satisfied: pathy>=0.3.5 in c:\\users\\mono\\anaconda3\\envs\\deoldify\\lib\\site-packages (from spacy>=2.0.18->fastai==1.0.60->-r requirements-colab.txt (line 1)) (0.10.1)\n",
      "Requirement already satisfied: tqdm<5.0.0,>=4.38.0 in c:\\users\\mono\\anaconda3\\envs\\deoldify\\lib\\site-packages (from spacy>=2.0.18->fastai==1.0.60->-r requirements-colab.txt (line 1)) (4.65.0)\n",
      "Requirement already satisfied: pydantic!=1.8,!=1.8.1,<1.11.0,>=1.7.4 in c:\\users\\mono\\anaconda3\\envs\\deoldify\\lib\\site-packages (from spacy>=2.0.18->fastai==1.0.60->-r requirements-colab.txt (line 1)) (1.10.2)\n",
      "Requirement already satisfied: jinja2 in c:\\users\\mono\\anaconda3\\envs\\deoldify\\lib\\site-packages (from spacy>=2.0.18->fastai==1.0.60->-r requirements-colab.txt (line 1)) (3.1.2)\n",
      "Requirement already satisfied: setuptools in c:\\users\\mono\\anaconda3\\envs\\deoldify\\lib\\site-packages (from spacy>=2.0.18->fastai==1.0.60->-r requirements-colab.txt (line 1)) (59.8.0)\n",
      "Requirement already satisfied: langcodes<4.0.0,>=3.2.0 in c:\\users\\mono\\anaconda3\\envs\\deoldify\\lib\\site-packages (from spacy>=2.0.18->fastai==1.0.60->-r requirements-colab.txt (line 1)) (3.3.0)\n",
      "Requirement already satisfied: typing-extensions<4.2.0,>=3.7.4 in c:\\users\\mono\\anaconda3\\envs\\deoldify\\lib\\site-packages (from spacy>=2.0.18->fastai==1.0.60->-r requirements-colab.txt (line 1)) (4.1.1)\n",
      "Requirement already satisfied: charset-normalizer<4,>=2 in c:\\users\\mono\\anaconda3\\envs\\deoldify\\lib\\site-packages (from requests->fastai==1.0.60->-r requirements-colab.txt (line 1)) (3.1.0)\n",
      "Requirement already satisfied: idna<4,>=2.5 in c:\\users\\mono\\anaconda3\\envs\\deoldify\\lib\\site-packages (from requests->fastai==1.0.60->-r requirements-colab.txt (line 1)) (3.4)\n",
      "Requirement already satisfied: urllib3<1.27,>=1.21.1 in c:\\users\\mono\\anaconda3\\envs\\deoldify\\lib\\site-packages (from requests->fastai==1.0.60->-r requirements-colab.txt (line 1)) (1.26.15)\n",
      "Requirement already satisfied: soupsieve>1.2 in c:\\users\\mono\\anaconda3\\envs\\deoldify\\lib\\site-packages (from beautifulsoup4->fastai==1.0.60->-r requirements-colab.txt (line 1)) (2.3.2.post1)\n",
      "Requirement already satisfied: cycler>=0.10 in c:\\users\\mono\\anaconda3\\envs\\deoldify\\lib\\site-packages (from matplotlib->fastai==1.0.60->-r requirements-colab.txt (line 1)) (0.11.0)\n",
      "Requirement already satisfied: fonttools>=4.22.0 in c:\\users\\mono\\anaconda3\\envs\\deoldify\\lib\\site-packages (from matplotlib->fastai==1.0.60->-r requirements-colab.txt (line 1)) (4.38.0)\n",
      "Requirement already satisfied: kiwisolver>=1.0.1 in c:\\users\\mono\\anaconda3\\envs\\deoldify\\lib\\site-packages (from matplotlib->fastai==1.0.60->-r requirements-colab.txt (line 1)) (1.4.4)\n",
      "Requirement already satisfied: pyparsing>=2.2.1 in c:\\users\\mono\\anaconda3\\envs\\deoldify\\lib\\site-packages (from matplotlib->fastai==1.0.60->-r requirements-colab.txt (line 1)) (3.0.9)\n",
      "Requirement already satisfied: python-dateutil>=2.7 in c:\\users\\mono\\anaconda3\\envs\\deoldify\\lib\\site-packages (from matplotlib->fastai==1.0.60->-r requirements-colab.txt (line 1)) (2.8.2)\n",
      "Requirement already satisfied: pytz>=2017.3 in c:\\users\\mono\\anaconda3\\envs\\deoldify\\lib\\site-packages (from pandas->fastai==1.0.60->-r requirements-colab.txt (line 1)) (2023.3)\n",
      "Requirement already satisfied: zipp>=0.5 in c:\\users\\mono\\anaconda3\\envs\\deoldify\\lib\\site-packages (from catalogue<2.1.0,>=2.0.6->spacy>=2.0.18->fastai==1.0.60->-r requirements-colab.txt (line 1)) (3.15.0)\n",
      "Requirement already satisfied: smart-open<7.0.0,>=5.2.1 in c:\\users\\mono\\anaconda3\\envs\\deoldify\\lib\\site-packages (from pathy>=0.3.5->spacy>=2.0.18->fastai==1.0.60->-r requirements-colab.txt (line 1)) (5.2.1)\n",
      "Requirement already satisfied: blis<0.8.0,>=0.7.8 in c:\\users\\mono\\anaconda3\\envs\\deoldify\\lib\\site-packages (from thinc<8.2.0,>=8.1.0->spacy>=2.0.18->fastai==1.0.60->-r requirements-colab.txt (line 1)) (0.7.8)\n",
      "Requirement already satisfied: confection<1.0.0,>=0.0.1 in c:\\users\\mono\\anaconda3\\envs\\deoldify\\lib\\site-packages (from thinc<8.2.0,>=8.1.0->spacy>=2.0.18->fastai==1.0.60->-r requirements-colab.txt (line 1)) (0.0.3)\n",
      "Requirement already satisfied: colorama in c:\\users\\mono\\anaconda3\\envs\\deoldify\\lib\\site-packages (from tqdm<5.0.0,>=4.38.0->spacy>=2.0.18->fastai==1.0.60->-r requirements-colab.txt (line 1)) (0.4.6)\n",
      "Requirement already satisfied: click<9.0.0,>=7.1.1 in c:\\users\\mono\\anaconda3\\envs\\deoldify\\lib\\site-packages (from typer<0.5.0,>=0.3.0->spacy>=2.0.18->fastai==1.0.60->-r requirements-colab.txt (line 1)) (8.1.3)\n",
      "Requirement already satisfied: MarkupSafe>=2.0 in c:\\users\\mono\\anaconda3\\envs\\deoldify\\lib\\site-packages (from jinja2->spacy>=2.0.18->fastai==1.0.60->-r requirements-colab.txt (line 1)) (2.1.1)\n",
      "Requirement already satisfied: importlib-metadata in c:\\users\\mono\\anaconda3\\envs\\deoldify\\lib\\site-packages (from click<9.0.0,>=7.1.1->typer<0.5.0,>=0.3.0->spacy>=2.0.18->fastai==1.0.60->-r requirements-colab.txt (line 1)) (4.11.4)\n"
     ]
    }
   ],
   "source": [
    "!pip install -r requirements-colab.txt"
   ]
  },
  {
   "cell_type": "code",
   "execution_count": 2,
   "id": "31249ccc-350b-4885-aec8-f245d17d35ae",
   "metadata": {
    "tags": []
   },
   "outputs": [
    {
     "ename": "ImportError",
     "evalue": "DLL load failed: Не найдена указанная процедура.",
     "output_type": "error",
     "traceback": [
      "\u001b[1;31m---------------------------------------------------------------------------\u001b[0m",
      "\u001b[1;31mImportError\u001b[0m                               Traceback (most recent call last)",
      "\u001b[1;32m~\\AppData\\Local\\Temp\\ipykernel_12056\\4260340405.py\u001b[0m in \u001b[0;36m<module>\u001b[1;34m\u001b[0m\n\u001b[1;32m----> 1\u001b[1;33m \u001b[1;32mimport\u001b[0m \u001b[0mtorch\u001b[0m\u001b[1;33m\u001b[0m\u001b[1;33m\u001b[0m\u001b[0m\n\u001b[0m\u001b[0;32m      2\u001b[0m \u001b[0mtorch\u001b[0m\u001b[1;33m.\u001b[0m\u001b[0mcuda\u001b[0m\u001b[1;33m.\u001b[0m\u001b[0mis_available\u001b[0m\u001b[1;33m(\u001b[0m\u001b[1;33m)\u001b[0m\u001b[1;33m\u001b[0m\u001b[1;33m\u001b[0m\u001b[0m\n",
      "\u001b[1;32m~\\anaconda3\\envs\\deoldify\\lib\\site-packages\\torch\\__init__.py\u001b[0m in \u001b[0;36m<module>\u001b[1;34m\u001b[0m\n\u001b[0;32m    100\u001b[0m     \u001b[1;32mpass\u001b[0m\u001b[1;33m\u001b[0m\u001b[1;33m\u001b[0m\u001b[0m\n\u001b[0;32m    101\u001b[0m \u001b[1;33m\u001b[0m\u001b[0m\n\u001b[1;32m--> 102\u001b[1;33m \u001b[1;32mfrom\u001b[0m \u001b[0mtorch\u001b[0m\u001b[1;33m.\u001b[0m\u001b[0m_C\u001b[0m \u001b[1;32mimport\u001b[0m \u001b[1;33m*\u001b[0m\u001b[1;33m\u001b[0m\u001b[1;33m\u001b[0m\u001b[0m\n\u001b[0m\u001b[0;32m    103\u001b[0m \u001b[1;33m\u001b[0m\u001b[0m\n\u001b[0;32m    104\u001b[0m __all__ += [name for name in dir(_C)\n",
      "\u001b[1;31mImportError\u001b[0m: DLL load failed: Не найдена указанная процедура."
     ]
    }
   ],
   "source": [
    "import torch\n",
    "torch.cuda.is_available()"
   ]
  },
  {
   "cell_type": "code",
   "execution_count": 3,
   "id": "954c538c-c9e6-4138-a031-9d47295c8e6a",
   "metadata": {
    "tags": []
   },
   "outputs": [
    {
     "name": "stdout",
     "output_type": "stream",
     "text": [
      "Looking in indexes: https://download.pytorch.org/whl/cu117\n",
      "Requirement already satisfied: torch in c:\\users\\mono\\anaconda3\\envs\\deoldify\\lib\\site-packages (1.13.1)\n",
      "Requirement already satisfied: torchvision in c:\\users\\mono\\anaconda3\\envs\\deoldify\\lib\\site-packages (0.14.1)\n",
      "Requirement already satisfied: torchaudio in c:\\users\\mono\\anaconda3\\envs\\deoldify\\lib\\site-packages (0.13.1+cu117)\n",
      "Requirement already satisfied: typing_extensions in c:\\users\\mono\\anaconda3\\envs\\deoldify\\lib\\site-packages (from torch) (4.4.0)\n",
      "Requirement already satisfied: numpy in c:\\users\\mono\\anaconda3\\envs\\deoldify\\lib\\site-packages (from torchvision) (1.21.6)\n",
      "Requirement already satisfied: requests in c:\\users\\mono\\anaconda3\\envs\\deoldify\\lib\\site-packages (from torchvision) (2.28.2)\n",
      "Requirement already satisfied: pillow!=8.3.*,>=5.3.0 in c:\\users\\mono\\anaconda3\\envs\\deoldify\\lib\\site-packages (from torchvision) (9.2.0)\n",
      "Requirement already satisfied: charset-normalizer<4,>=2 in c:\\users\\mono\\anaconda3\\envs\\deoldify\\lib\\site-packages (from requests->torchvision) (3.1.0)\n",
      "Requirement already satisfied: idna<4,>=2.5 in c:\\users\\mono\\anaconda3\\envs\\deoldify\\lib\\site-packages (from requests->torchvision) (3.4)\n",
      "Requirement already satisfied: urllib3<1.27,>=1.21.1 in c:\\users\\mono\\anaconda3\\envs\\deoldify\\lib\\site-packages (from requests->torchvision) (1.26.15)\n",
      "Requirement already satisfied: certifi>=2017.4.17 in c:\\users\\mono\\anaconda3\\envs\\deoldify\\lib\\site-packages (from requests->torchvision) (2022.12.7)\n"
     ]
    }
   ],
   "source": [
    "!pip3 install "
   ]
  },
  {
   "cell_type": "code",
   "execution_count": null,
   "id": "be83b2bf-c744-468d-9e86-24667d8a4213",
   "metadata": {},
   "outputs": [],
   "source": [
    "!pip install -r requirements-colab.txt"
   ]
  }
 ],
 "metadata": {
  "kernelspec": {
   "display_name": "Python 3 (ipykernel)",
   "language": "python",
   "name": "python3"
  },
  "language_info": {
   "codemirror_mode": {
    "name": "ipython",
    "version": 3
   },
   "file_extension": ".py",
   "mimetype": "text/x-python",
   "name": "python",
   "nbconvert_exporter": "python",
   "pygments_lexer": "ipython3",
   "version": "3.7.12"
  }
 },
 "nbformat": 4,
 "nbformat_minor": 5
}
